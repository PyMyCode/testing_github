{
 "cells": [
  {
   "cell_type": "code",
   "execution_count": 5,
   "metadata": {},
   "outputs": [],
   "source": [
    "# importing libraries\n",
    "import os.path\n",
    "import sqlite3\n",
    "import pandas as pd"
   ]
  },
  {
   "cell_type": "code",
   "execution_count": 8,
   "metadata": {},
   "outputs": [
    {
     "name": "stdout",
     "output_type": "stream",
     "text": [
      "/home/malfire/Projects/testing_github/database.db\n"
     ]
    }
   ],
   "source": [
    "# geting database path\n",
    "BASE_DIR = os.getcwd()\n",
    "db_path = os.path.join(BASE_DIR, r\"database.db\")\n",
    "print(db_path)"
   ]
  },
  {
   "cell_type": "code",
   "execution_count": 9,
   "metadata": {},
   "outputs": [
    {
     "name": "stdout",
     "output_type": "stream",
     "text": [
      "connected!\n"
     ]
    }
   ],
   "source": [
    "# trying to connect to a database\n",
    "try:\n",
    "    db = sqlite3.connect(db_path, check_same_thread=False)\n",
    "    print(\"connected!\")\n",
    "except sqlite3.Error as e:\n",
    "    print(e)"
   ]
  },
  {
   "cell_type": "code",
   "execution_count": 10,
   "metadata": {},
   "outputs": [],
   "source": [
    "# creating a cursor object\n",
    "cur = db.cursor()"
   ]
  },
  {
   "cell_type": "code",
   "execution_count": 12,
   "metadata": {},
   "outputs": [
    {
     "name": "stdout",
     "output_type": "stream",
     "text": [
      "    Name\n",
      "0  döner\n"
     ]
    }
   ],
   "source": [
    "# reading data\n",
    "sql_query = \"\"\"\n",
    "            SELECT * FROM Tisch\n",
    "            \"\"\" \n",
    "# sql_query = \"select * from table where ?\"\n",
    "# parameter = (9, ) # a tuple\n",
    "\n",
    "df = pd.read_sql(sql_query, db)\n",
    "print(df)"
   ]
  },
  {
   "cell_type": "code",
   "execution_count": null,
   "metadata": {},
   "outputs": [],
   "source": [
    "# writing data\n",
    "sql_query = \"\"\"\n",
    "            INSERT INTO Tisch (Name) values (Kebab)\n",
    "            \"\"\" "
   ]
  },
  {
   "cell_type": "code",
   "execution_count": null,
   "metadata": {},
   "outputs": [],
   "source": [
    "db.close()"
   ]
  }
 ],
 "metadata": {
  "kernelspec": {
   "display_name": "ds_venv",
   "language": "python",
   "name": "python3"
  },
  "language_info": {
   "codemirror_mode": {
    "name": "ipython",
    "version": 3
   },
   "file_extension": ".py",
   "mimetype": "text/x-python",
   "name": "python",
   "nbconvert_exporter": "python",
   "pygments_lexer": "ipython3",
   "version": "3.10.12"
  }
 },
 "nbformat": 4,
 "nbformat_minor": 2
}
